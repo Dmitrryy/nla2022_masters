{
 "cells": [
  {
   "cell_type": "markdown",
   "metadata": {
    "slideshow": {
     "slide_type": "slide"
    }
   },
   "source": [
    "# Лекция 8. Разреженные матрицы и особенности работы с ними"
   ]
  },
  {
   "cell_type": "markdown",
   "metadata": {
    "slideshow": {
     "slide_type": "slide"
    }
   },
   "source": [
    "## План на сегодняшнюю лекцию\n",
    "\n",
    "- Плотные неструктурированные матрицы и распределённое хранение\n",
    "- Разреженные матрицы и форматы их представления\n",
    "- Быстрая реализация умножения разреженной матрицы на вектор "
   ]
  },
  {
   "cell_type": "markdown",
   "metadata": {
    "slideshow": {
     "slide_type": "slide"
    }
   },
   "source": [
    "## Плотные матрицы большой размерности\n",
    "\n",
    "- Если размер матрицы очень большой, то она не помещается в память\n",
    "- Возможные способы работы с такими матрицами\n",
    "    - Если матрица **структурирована**, например блочно Тёплицева с Тёплицевыми блоками (в следующих лекциях), тогда возможно сжатое хранение\n",
    "    - Для неструктурированных матриц помогает **распределённая память**\n",
    "    - MPI для обработки распределённо хранимых матриц"
   ]
  },
  {
   "cell_type": "markdown",
   "metadata": {
    "slideshow": {
     "slide_type": "slide"
    }
   },
   "source": [
    "### Распределённая память и MPI\n",
    "\n",
    "- Разбиваем матрицу на блоки и храним их на различных машинах\n",
    "- Каждая машина имеет своё собственное адресное пространство и не может повредить данные на других машинах\n",
    "- В этом случае машины передают друг другу данные для агрегирования результата вычислений\n",
    "- [MPI (Message Passing Interface)](https://en.wikipedia.org/wiki/Message_Passing_Interface) – стандарт в параллельных вычислениях с распределённой памятью"
   ]
  },
  {
   "cell_type": "markdown",
   "metadata": {
    "slideshow": {
     "slide_type": "slide"
    }
   },
   "source": [
    "### Пример: умножение матрицы на вектор\n",
    "\n",
    "- Предположим, вы хотите посчитать произведение $Ax$ и матрица $A$ не помещается в памяти\n",
    "- В этом случае вы можете разбить матрицу на блоки и поместить их на разные машины\n",
    "- Возможные стратегии:\n",
    "    - Одномерное деление на блоки использует только строки\n",
    "    - Двумерное деление на блоки использует и строки и столбцы"
   ]
  },
  {
   "cell_type": "markdown",
   "metadata": {
    "slideshow": {
     "slide_type": "slide"
    }
   },
   "source": [
    "#### Пример одномерного деления на блоки\n",
    "<img src=\"./1d_block.jpg\">"
   ]
  },
  {
   "cell_type": "markdown",
   "metadata": {
    "slideshow": {
     "slide_type": "slide"
    }
   },
   "source": [
    "#### Общее время вычисления произведения матрицы на вектор для одномерного разбиения на блоки\n",
    "\n",
    "- Каждая машина хранит $n / p $ полных строк и $n / p$ элементов вектора $x$\n",
    "- Общее число операций $n^2 / p$\n",
    "- Общее время для отправки и записи данных $t_s \\log p + t_w n$, где $t_s$ – единица времени на отправку и $t_w$ – единица времени на запись"
   ]
  },
  {
   "cell_type": "markdown",
   "metadata": {
    "slideshow": {
     "slide_type": "slide"
    }
   },
   "source": [
    "#### Пример двумерного деления на блоки\n",
    "\n",
    "<img src=\"./2d_block.png\" width=400>"
   ]
  },
  {
   "cell_type": "markdown",
   "metadata": {
    "slideshow": {
     "slide_type": "slide"
    }
   },
   "source": [
    "#### Общее время вычисления умножения матрицы на вектор с использованием двумерного разбиения на блоки\n",
    "\n",
    "- Каждая машина хранит блок размера $n / \\sqrt{p} $ и $n / \\sqrt{p}$ элементов вектора\n",
    "- Общее число операций $n^2 / p$\n",
    "- Общее время для отправки и записи данных примерно равно $t_s \\log p + t_w (n/\\sqrt{p}) \\log p$, где $t_s$ – единица времени на отправку и $t_w$ – единица времени на запись"
   ]
  },
  {
   "cell_type": "markdown",
   "metadata": {
    "slideshow": {
     "slide_type": "slide"
    }
   },
   "source": [
    "### Пакеты с поддержкой распределённого хранения данных\n",
    "\n",
    "- [ScaLAPACK](http://www.netlib.org/scalapack/)\n",
    "- [Trilinos](https://trilinos.org/)\n",
    "\n",
    "В Python вы можете использовать [mpi4py](https://mpi4py.readthedocs.io/en/stable/) для параллельной реализации ваших алгоритмов.\n",
    "\n",
    "- PyTorch поддерживает распределённое обучение и хранение данных, см подробности [тут](https://pytorch.org/tutorials/intermediate/dist_tuto.html) "
   ]
  },
  {
   "cell_type": "markdown",
   "metadata": {
    "slideshow": {
     "slide_type": "slide"
    }
   },
   "source": [
    "### Резюме про работу с большими плотными неструктурированными матрицами\n",
    "\n",
    "- Распределённое хранение матриц\n",
    "- MPI\n",
    "- Пакеты, которые используют блочные вычисления\n",
    "- Различные подходы к блочным вычислениям"
   ]
  },
  {
   "cell_type": "markdown",
   "metadata": {
    "slideshow": {
     "slide_type": "slide"
    }
   },
   "source": [
    "## Разреженные матрицы\n",
    "\n",
    "- Ограничением в решении задач линейной алгебры с плотными матрицами является память, требуемая для хранения плотных матриц, $N^2$ элементов.\n",
    "\n",
    "- Разреженные матрицы, где большинство элементов нулевые позволяют по крайней мере хранить их в памяти.\n",
    "\n",
    "- Основные вопросы: можем ли мы решать следующие задачи для разреженных матриц?\n",
    "    - решение линейных систем\n",
    "    - вычисление собственных значений и собственных векторов\n",
    "    - вычисление матричных функций"
   ]
  },
  {
   "cell_type": "markdown",
   "metadata": {
    "slideshow": {
     "slide_type": "slide"
    }
   },
   "source": [
    "## Приложения разреженных матриц\n",
    "\n",
    "Разреженные матрицы возникают в следующих областях:\n",
    "\n",
    "- математическое моделирование и решение уравнений в частных производных\n",
    "- обработка графов, например анализ социальных сетей\n",
    "- рекомендательные системы\n",
    "- в целом там, где отношения между объектами \"разрежены\"."
   ]
  },
  {
   "cell_type": "markdown",
   "metadata": {
    "slideshow": {
     "slide_type": "slide"
    }
   },
   "source": [
    "### Разреженные матрицы помогают в вычислительной теории графов \n",
    "\n",
    "- Графы представляют в виде матриц смежности, которые чаще всего разрежены\n",
    "- Численное решение задач теории графов сводится к операциям с этими разреженными матрицами\n",
    "    - Кластеризация графа и выделение сообществ\n",
    "    - Ранжирование\n",
    "    - Случайные блуждатели\n",
    "    - И другие....\n",
    "- Пример: возможно, самый большой доступный граф гиперссылок содержит 3.5 миллиарда веб-страниц и 128 миллиардов гиперссылок, больше подробностей см. [тут](http://webdatacommons.org/hyperlinkgraph/) \n",
    "- Различные графы среднего размера для тестирования ваших алгоритмов доступны в [Stanford Large Network Dataset Collection](https://snap.stanford.edu/data/)"
   ]
  },
  {
   "cell_type": "markdown",
   "metadata": {
    "slideshow": {
     "slide_type": "slide"
    }
   },
   "source": [
    "### Florida sparse matrix collection\n",
    "\n",
    "- Большое количество разреженных матриц из различных приложений вы можете найти в [Florida sparse matrix collection](http://www.cise.ufl.edu/research/sparse/matrices/)."
   ]
  },
  {
   "cell_type": "code",
   "execution_count": null,
   "metadata": {
    "slideshow": {
     "slide_type": "slide"
    }
   },
   "outputs": [],
   "source": [
    "from IPython.display import IFrame\n",
    "IFrame('http://yifanhu.net/GALLERY/GRAPHS/search.html', 500, 500)"
   ]
  },
  {
   "cell_type": "markdown",
   "metadata": {
    "slideshow": {
     "slide_type": "slide"
    }
   },
   "source": [
    "### Разреженные матрицы и глубокое обучение\n",
    "\n",
    "- DNN имеют очень много параметров\n",
    "- Некоторые из них могут быть избыточными\n",
    "- Как уменьшить число параметров без серьёзной потери в точности?\n",
    "- [Sparse variational dropout method](https://github.com/ars-ashuha/variational-dropout-sparsifies-dnn) даёт существенно разреженные фильтры в DNN почти без потери точности!"
   ]
  },
  {
   "cell_type": "markdown",
   "metadata": {
    "slideshow": {
     "slide_type": "slide"
    }
   },
   "source": [
    "## Построение разреженных матриц\n",
    "\n",
    "- Мы можем генерировать разреженные матрицы с помощью пакета ```scipy.sparse```\n",
    "\n",
    "- Можно задать матрицы очень большого размера\n",
    "\n",
    "Полезные функции при создании разреженных матриц:\n",
    "- для созданий диагональной матрицы с заданными диагоналями ```spdiags```\n",
    "- Кронекерово произведение (определение будет далее) разреженных матриц ```kron```\n",
    "- также арифметические операции для разреженных матриц перегружены"
   ]
  },
  {
   "cell_type": "markdown",
   "metadata": {
    "slideshow": {
     "slide_type": "slide"
    }
   },
   "source": [
    "### Кронекерово произведение\n",
    "\n",
    "Для матриц $A\\in\\mathbb{R}^{n\\times m}$ и $B\\in\\mathbb{R}^{l\\times k}$ Кронекерово произведение определяется как блочная матрица следующего вида\n",
    "\n",
    "$$\n",
    "   A\\otimes B = \\begin{bmatrix}a_{11}B & \\dots & a_{1m}B \\\\ \\vdots & \\ddots & \\vdots \\\\ a_{n1}B & \\dots & a_{nm}B\\end{bmatrix}\\in\\mathbb{R}^{nl\\times mk}.\n",
    "$$\n",
    "\n",
    "Основные свойства:\n",
    "- билинейность\n",
    "- $(A\\otimes B) (C\\otimes D) = AC \\otimes BD$\n",
    "- Пусть $\\mathrm{vec}(X)$ оператор векторизации матрицы по столбцам. Тогда \n",
    "$\\mathrm{vec}(AXB) = (B^T \\otimes A) \\mathrm{vec}(X).$"
   ]
  },
  {
   "cell_type": "code",
   "execution_count": null,
   "metadata": {
    "slideshow": {
     "slide_type": "slide"
    }
   },
   "outputs": [],
   "source": [
    "import numpy as np\n",
    "import scipy as sp\n",
    "import scipy.sparse\n",
    "from scipy.sparse import csc_matrix, csr_matrix\n",
    "import matplotlib.pyplot as plt\n",
    "import scipy.linalg\n",
    "import scipy.sparse.linalg\n",
    "%matplotlib inline\n",
    "n = 5\n",
    "ex = np.ones(n);\n",
    "lp1 = sp.sparse.spdiags(np.vstack((ex,  -2*ex, ex)), [-1, 0, 1], n, n, 'csr'); \n",
    "e = sp.sparse.eye(n)\n",
    "A = sp.sparse.kron(lp1, e) + sp.sparse.kron(e, lp1)\n",
    "A = csc_matrix(A)\n",
    "plt.spy(A, aspect='equal', marker='.', markersize=5)"
   ]
  },
  {
   "cell_type": "markdown",
   "metadata": {
    "slideshow": {
     "slide_type": "slide"
    }
   },
   "source": [
    "### Шаблон разреженности\n",
    "\n",
    "- Команда ```spy``` рисует шаблон разреженности данной матрицы: пиксель $(i, j)$ отображается на рисунке, если соответствующий элемент матрицы ненулевой.\n",
    "\n",
    "- Шаблон разреженности действительно очень важен для понимания сложности алгоритмов линейной алгебры для разреженных матриц.  \n",
    "\n",
    "- Зачастую шаблона разреженности достаточно для анализа того, насколько \"сложно\" работать с этой матрицей."
   ]
  },
  {
   "cell_type": "markdown",
   "metadata": {
    "slideshow": {
     "slide_type": "slide"
    }
   },
   "source": [
    "### Определение разреженных матриц\n",
    "\n",
    "- Разреженные матрицы – это матрицы, такие что количество ненулевых элементов в них существенно меньше общего числа элементов в матрице. \n",
    "\n",
    "- Из-за этого вы можете выполнять базовые операции линейной алгебры (прежде всего решать линейные системы) гораздо быстрее по сравнению с использованием плотных матриц."
   ]
  },
  {
   "cell_type": "markdown",
   "metadata": {
    "slideshow": {
     "slide_type": "slide"
    }
   },
   "source": [
    "## Что нам необходимо, чтобы увидеть, как это работает\n",
    "\n",
    "- **Вопрос 1:** Как хранить разреженные матрицы в памяти?\n",
    "\n",
    "- **Вопрос 2:** Как умножить разреженную матрицу на вектор быстро?\n",
    "\n",
    "- **Вопрос 3:** Как быстро решать линейные системы с разреженными матрицами?"
   ]
  },
  {
   "cell_type": "markdown",
   "metadata": {
    "slideshow": {
     "slide_type": "slide"
    }
   },
   "source": [
    "### Хранение разреженных матриц\n",
    "\n",
    "Существет много форматов хранения разреженных матриц, наиболее важные:\n",
    "\n",
    "- COO (координатный формат)\n",
    "- LIL (список списков)\n",
    "- CSR (compressed sparse row)\n",
    "- CSC (compressed sparse column)\n",
    "- блочные варианты\n",
    "\n",
    "В ```scipy``` представлены конструкторы для каждого из этих форматов, например\n",
    "\n",
    "```scipy.sparse.lil_matrix(A)```."
   ]
  },
  {
   "cell_type": "markdown",
   "metadata": {
    "slideshow": {
     "slide_type": "slide"
    }
   },
   "source": [
    "#### Координатный формат (COO)\n",
    "\n",
    "- Простейший формат хранения разреженной матрицы – координатный. \n",
    "- В этом формате разреженная матрица – это набор индексов и значений в этих индексах.\n",
    "\n",
    "```python\n",
    "i, j, val\n",
    "```\n",
    "\n",
    "где ```i, j``` массивы индексов, ```val``` массив элементов матрицы. <br>\n",
    "\n",
    "- Таким образом, нам нужно хранить $3\\cdot$**nnz** элементов, где **nnz** обозначает число ненулевых элементов в матрице.\n",
    "\n",
    "**Q:** Что хорошего и что плохого в использовании такого формата?"
   ]
  },
  {
   "cell_type": "markdown",
   "metadata": {
    "slideshow": {
     "slide_type": "slide"
    }
   },
   "source": [
    "#### Основные недостатки\n",
    "\n",
    "- Он неоптимален по памяти (почему?)\n",
    "- Он неоптимален для умножения матрицы на вектор (почему?)\n",
    "- Он неоптимален для удаления элемента (почему?)\n",
    "\n",
    "Первые два недостатка решены в формате CSR.\n",
    "\n",
    "**Q**: какой формат решает третий недостаток? "
   ]
  },
  {
   "cell_type": "markdown",
   "metadata": {
    "slideshow": {
     "slide_type": "slide"
    }
   },
   "source": [
    "#### Compressed sparse row (CSR)\n",
    "\n",
    "В формате CSR матрица хранится также с помощью трёх массивов, но других:\n",
    "\n",
    "```python\n",
    "ia, ja, sa\n",
    "```\n",
    "\n",
    "где:\n",
    "\n",
    "- **ia** (начало строк) массив целых чисел длины $n+1$ \n",
    "- **ja** (индексы столбцов) массив целых чисел длины **nnz** \n",
    "-  **sa** (элементы матрицы) массив действительных чисел длины **nnz**\n",
    "\n",
    "<img src=\"https://www.karlrupp.net/wp-content/uploads/2016/02/csr_storage_sparse_marix.png\" width=60% />\n",
    "\n",
    "Итак, всего необходимо хранить $2\\cdot{\\bf nnz} + n+1$ элементов."
   ]
  },
  {
   "cell_type": "markdown",
   "metadata": {
    "slideshow": {
     "slide_type": "slide"
    }
   },
   "source": [
    "### Разреженные матрицы в PyTorch, Tensorflow и JAX\n",
    "\n",
    "- PyTorch поддерживает разреженные матрицы в формате COO\n",
    "- Неполная поддержка вычисления градиентов в операциях с такими матрицами, список и обсуждение см. [тут](https://github.com/pytorch/pytorch/issues/9674)\n",
    "- Tensorflow также поддерживает разреженные матрицы в COO формате\n",
    "- Список поддерживаемых операций приведён [здесь](https://www.tensorflow.org/api_docs/python/tf/sparse), поддержка вычисления градиентов ограничена\n",
    "- JAX также имеет [экспериментальную поддержку](https://jax.readthedocs.io/en/latest/jax.experimental.sparse.html) операций с разреженными матрицами"
   ]
  },
  {
   "cell_type": "markdown",
   "metadata": {
    "slideshow": {
     "slide_type": "slide"
    }
   },
   "source": [
    "### CSR формат позволяет быстро умножить разреженную матрицу на вектор (SpMV)\n",
    "\n",
    "```python\n",
    "\n",
    "   for i in range(n):\n",
    "        \n",
    "        for k in range(ia[i]:ia[i+1]):\n",
    "            \n",
    "            y[i] += sa[k] * x[ja[k]]\n",
    "```"
   ]
  },
  {
   "cell_type": "code",
   "execution_count": null,
   "metadata": {
    "slideshow": {
     "slide_type": "slide"
    }
   },
   "outputs": [],
   "source": [
    "import numpy as np\n",
    "import scipy as sp\n",
    "import scipy.sparse\n",
    "import scipy.sparse.linalg\n",
    "from scipy.sparse import csc_matrix, csr_matrix, coo_matrix\n",
    "import matplotlib.pyplot as plt\n",
    "%matplotlib inline\n",
    "n = 1000\n",
    "ex = np.ones(n);\n",
    "lp1 = sp.sparse.spdiags(np.vstack((ex,  -2*ex, ex)), [-1, 0, 1], n, n, 'csr'); \n",
    "e = sp.sparse.eye(n)\n",
    "A = sp.sparse.kron(lp1, e) + sp.sparse.kron(e, lp1)\n",
    "A = csr_matrix(A)\n",
    "rhs = np.ones(n * n)\n",
    "B = coo_matrix(A)\n",
    "%timeit A.dot(rhs)\n",
    "%timeit B.dot(rhs)"
   ]
  },
  {
   "cell_type": "markdown",
   "metadata": {
    "slideshow": {
     "slide_type": "fragment"
    }
   },
   "source": [
    "Видно, что **CSR** быстрее, и чем менее структурирован шаблон разреженности, тем выше выигрыш в скорости."
   ]
  },
  {
   "cell_type": "markdown",
   "metadata": {
    "slideshow": {
     "slide_type": "slide"
    }
   },
   "source": [
    "### Разреженные матрицы и эффективность\n",
    "\n",
    "- Использование разреженных матриц приводит к уменьшению сложности\n",
    "- Но они не очень подходят для параллельных/GPU реализаций \n",
    "- Они не показывают максимальную эффективность из-за случайного доступа к данным.  \n",
    "- Обычно, пиковая производительность порядка $10\\%-15\\%$ считается хорошей.  "
   ]
  },
  {
   "cell_type": "markdown",
   "metadata": {
    "slideshow": {
     "slide_type": "slide"
    }
   },
   "source": [
    "### Вспомним как измеряется эффективность операций\n",
    "\n",
    "- Стандартный способ измерения эффективности операций линейной алгебры – это использование **flops** (число опраций с плавающей точкой в секунду)\n",
    "\n",
    "- Измерим эффективность умножения матрицы на вектор в случае плотной и разреженной матрицы"
   ]
  },
  {
   "cell_type": "code",
   "execution_count": null,
   "metadata": {
    "slideshow": {
     "slide_type": "slide"
    }
   },
   "outputs": [],
   "source": [
    "import numpy as np\n",
    "import time\n",
    "n = 4000\n",
    "a = np.random.randn(n, n)\n",
    "v = np.random.randn(n)\n",
    "t = time.time()\n",
    "np.dot(a, v)\n",
    "t = time.time() - t\n",
    "print('Time: {0: 3.1e}, Efficiency: {1: 3.1e} Gflops'.\\\n",
    "      format(t,  ((2 * n ** 2)/t) / 10 ** 9))"
   ]
  },
  {
   "cell_type": "code",
   "execution_count": null,
   "metadata": {
    "slideshow": {
     "slide_type": "slide"
    }
   },
   "outputs": [],
   "source": [
    "n = 4000\n",
    "ex = np.ones(n);\n",
    "a = sp.sparse.spdiags(np.vstack((ex,  -2*ex, ex)), [-1, 0, 1], n, n, 'csr'); \n",
    "rhs = np.random.randn(n)\n",
    "t = time.time()\n",
    "a.dot(rhs)\n",
    "t = time.time() - t\n",
    "print('Time: {0: 3.1e}, Efficiency: {1: 3.1e} Gflops'.\\\n",
    "      format(t,  (3 * n) / t / 10 ** 9))"
   ]
  },
  {
   "cell_type": "markdown",
   "metadata": {
    "slideshow": {
     "slide_type": "slide"
    }
   },
   "source": [
    "### Случайный доступ к данным и промахи в обращении к кешу\n",
    "\n",
    "- Сначала все элементы матрицы и вектора хранятся в оперативной памяти (RAM – Random Access Memory)\n",
    "- Если вы хотите вычислить произведение матрицы на вектор, часть элементов матрицы и вектора перемещаются в кеш (быстрой памяти малого объёма), см. [лекцию об алгоритме Штрассена и умножении матриц](https://github.com/amkatrutsa/nla2020_ozon/blob/master/lectures/lecture4/lecture4.ipynb)\n",
    "- После этого CPU берёт данные из кеша, обрабатывает их и возвращает результат снова в кеш\n",
    "- Если CPU требуются данные, которых ещё нет в кеше, это называется промах в обращении к кешу (cache miss)\n",
    "- Если случается промах в обращении к кешу, необходимые данные перемещаются из оперативной памяти в кеш\n",
    "\n",
    "**Q**: что если в кеше нет свободного места?\n",
    "\n",
    "\n",
    "- Чем больше промахов в обращении к кешу, тем медленнее выполняются вычисления"
   ]
  },
  {
   "cell_type": "markdown",
   "metadata": {
    "slideshow": {
     "slide_type": "slide"
    }
   },
   "source": [
    "### План кеша и LRU\n",
    "\n",
    "<img src=\"./cache_scheme.png\" width=\"500\">"
   ]
  },
  {
   "cell_type": "markdown",
   "metadata": {
    "slideshow": {
     "slide_type": "slide"
    }
   },
   "source": [
    "#### Умножение матрицы в CSR формате на вектор\n",
    "\n",
    "```python\n",
    "\n",
    "   for i in range(n):\n",
    "        \n",
    "        for k in range(ia[i]:ia[i+1]):\n",
    "            \n",
    "            y[i] += sa[k] * x[ja[k]]\n",
    "            \n",
    "```\n",
    "\n",
    "- Какая часть операций приводит к промахам в обращении к кешу?\n",
    "- Как эту проблему можно решить?"
   ]
  },
  {
   "cell_type": "markdown",
   "metadata": {
    "slideshow": {
     "slide_type": "slide"
    }
   },
   "source": [
    "### Переупорядочивание уменьшает количество промахов в обращении к кешу\n",
    "\n",
    "- Если ```ja``` хранит последовательно элементы, тогда они могут быть перемещены в кеш одновременно и количество промахов в обращении к кешу уменьшится\n",
    "- Так происходит, когда разреженная матрица является **ленточной** или хотя бы блочно-диагональной\n",
    "- Мы можем превратить данную разреженную матрицу в ленточную или блочно-диагональную с помощью *перестановок* \n",
    "\n",
    "- Пусть $P$ матрица перестановок строк матрицы и $Q$ матрица перестановок столбцов матрицы\n",
    "- $A_1 = PAQ$ – матрица с шириной ленты меньшей, чем у матрицы $A$\n",
    "- $y = Ax \\to \\tilde{y} = A_1 \\tilde{x}$, где $\\tilde{x} = Q^{\\top}x$ и $\\tilde{y} = Py$\n",
    "- [Separated block diagonal form](http://albert-jan.yzelman.net/PDFs/yzelman09-rev.pdf) призван минимизировать количество промахов в обращении к кешу\n",
    "- Он также может быть расширен на двумерный случай, где разделяются не только строки, но и столбцы"
   ]
  },
  {
   "cell_type": "markdown",
   "metadata": {
    "slideshow": {
     "slide_type": "slide"
    }
   },
   "source": [
    "#### Пример\n",
    "\n",
    "- SBD в одномерном случае\n",
    "<img src=\"./sbd.png\" width=\"400\">"
   ]
  },
  {
   "cell_type": "markdown",
   "metadata": {
    "slideshow": {
     "slide_type": "slide"
    }
   },
   "source": [
    "## Методы решения линейных систем с разреженными матрицами\n",
    "\n",
    "- Прямые методы\n",
    "    - LU разложение\n",
    "    - Различные методы переупорядочивания для минимизации заполнения факторов\n",
    "- Крыловские методы"
   ]
  },
  {
   "cell_type": "code",
   "execution_count": null,
   "metadata": {
    "slideshow": {
     "slide_type": "fragment"
    }
   },
   "outputs": [],
   "source": [
    "n = 10\n",
    "ex = np.ones(n);\n",
    "lp1 = sp.sparse.spdiags(np.vstack((ex,  -2*ex, ex)), [-1, 0, 1], n, n, 'csr'); \n",
    "e = sp.sparse.eye(n)\n",
    "A = sp.sparse.kron(lp1, e) + sp.sparse.kron(e, lp1)\n",
    "A = csr_matrix(A)\n",
    "rhs = np.ones(n * n)\n",
    "sol = sp.sparse.linalg.spsolve(A, rhs)\n",
    "_, (ax1, ax2) = plt.subplots(1, 2)\n",
    "ax1.plot(sol)\n",
    "ax1.set_title('Not reshaped solution')\n",
    "ax2.contourf(sol.reshape((n, n), order='f'))\n",
    "ax2.set_title('Reshaped solution')"
   ]
  },
  {
   "cell_type": "markdown",
   "metadata": {
    "slideshow": {
     "slide_type": "slide"
    }
   },
   "source": [
    "## LU разложение разреженной матрицы\n",
    "\n",
    "- Почему разреженная линейная система может быть решена быстрее, чем плотная? С помощью какого метода? \n",
    "\n",
    "- В LU разложении матрицы $A$ факторы $L$ и $U$ могут быть также разреженными:\n",
    "\n",
    "$$A = L U$$\n",
    "\n",
    "- А решение линейной системы с разреженной треугольной матрицей может быть вычислено очень быстро.  \n",
    "\n",
    "<font color='red'> Заметим, что обратная матрица от разреженной матрицы НЕ разрежена! </font>\n"
   ]
  },
  {
   "cell_type": "code",
   "execution_count": null,
   "metadata": {
    "slideshow": {
     "slide_type": "slide"
    }
   },
   "outputs": [],
   "source": [
    "n = 7\n",
    "ex = np.ones(n);\n",
    "a = sp.sparse.spdiags(np.vstack((ex,  -2*ex, ex)), [-1, 0, 1], n, n, 'csr'); \n",
    "b = np.array(np.linalg.inv(a.toarray()))\n",
    "print(a.toarray())\n",
    "print(b)"
   ]
  },
  {
   "cell_type": "markdown",
   "metadata": {
    "slideshow": {
     "slide_type": "slide"
    }
   },
   "source": [
    "## А факторы...\n",
    "\n",
    "- $L$ и $U$ обычно разрежены\n",
    "- В случае трёхдиагональной матрицы они даже бидиагональны!"
   ]
  },
  {
   "cell_type": "code",
   "execution_count": null,
   "metadata": {
    "slideshow": {
     "slide_type": "fragment"
    }
   },
   "outputs": [],
   "source": [
    "from scipy.sparse.linalg import splu\n",
    "T = splu(a.tocsc(), permc_spec=\"NATURAL\")\n",
    "plt.spy(T.L)"
   ]
  },
  {
   "cell_type": "markdown",
   "metadata": {
    "slideshow": {
     "slide_type": "slide"
    }
   },
   "source": [
    "Отметим, что ```splu``` со значением параметра ```permc_spec``` по умолчанию даёт перестановку, которая не даёт бидиагональные факторы:"
   ]
  },
  {
   "cell_type": "code",
   "execution_count": null,
   "metadata": {
    "slideshow": {
     "slide_type": "fragment"
    }
   },
   "outputs": [],
   "source": [
    "from scipy.sparse.linalg import splu\n",
    "T = splu(a.tocsc())\n",
    "plt.spy(T.L)\n",
    "print(T.perm_c)"
   ]
  },
  {
   "cell_type": "markdown",
   "metadata": {
    "slideshow": {
     "slide_type": "slide"
    }
   },
   "source": [
    "## Двумерный случай\n",
    "\n",
    "В двумерном случае всё гораздо хуже:"
   ]
  },
  {
   "cell_type": "code",
   "execution_count": null,
   "metadata": {
    "slideshow": {
     "slide_type": "fragment"
    }
   },
   "outputs": [],
   "source": [
    "n = 20\n",
    "ex = np.ones(n);\n",
    "lp1 = sp.sparse.spdiags(np.vstack((ex,  -2*ex, ex)), [-1, 0, 1], n, n, 'csr'); \n",
    "e = sp.sparse.eye(n)\n",
    "A = sp.sparse.kron(lp1, e) + sp.sparse.kron(e, lp1)\n",
    "A = csc_matrix(A)\n",
    "T = scipy.sparse.linalg.spilu(A)\n",
    "plt.spy(T.L, marker='.', color='k', markersize=8)"
   ]
  },
  {
   "cell_type": "markdown",
   "metadata": {
    "slideshow": {
     "slide_type": "slide"
    }
   },
   "source": [
    "## План на следующую лекцию\n",
    "\n",
    "- Как добиться максимально разреженных факторов?\n",
    "- Почему методы из теории графов тут помогают?\n",
    "- Что такое лапласиан графа, вектор Фидлера и почему они важны?"
   ]
  },
  {
   "cell_type": "code",
   "execution_count": null,
   "metadata": {
    "slideshow": {
     "slide_type": "skip"
    }
   },
   "outputs": [],
   "source": [
    "from IPython.core.display import HTML\n",
    "def css_styling():\n",
    "    styles = open(\"../styles/custom.css\", \"r\").read()\n",
    "    return HTML(styles)\n",
    "css_styling()"
   ]
  }
 ],
 "metadata": {
  "celltoolbar": "Slideshow",
  "kernelspec": {
   "display_name": "Python 3 (ipykernel)",
   "language": "python",
   "name": "python3"
  },
  "language_info": {
   "codemirror_mode": {
    "name": "ipython",
    "version": 3
   },
   "file_extension": ".py",
   "mimetype": "text/x-python",
   "name": "python",
   "nbconvert_exporter": "python",
   "pygments_lexer": "ipython3",
   "version": "3.10.6"
  }
 },
 "nbformat": 4,
 "nbformat_minor": 4
}
